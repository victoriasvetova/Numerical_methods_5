{
 "metadata": {
  "language_info": {
   "codemirror_mode": {
    "name": "python",
    "version": 3
   },
   "file_extension": ".py",
   "mimetype": "text/x-python",
   "name": "python",
   "nbconvert_exporter": "python",
   "pygments_lexer": "ipython3",
   "version": "3.8"
  },
  "kernelspec": {
   "name": "python",
   "display_name": "Python (Pyodide)",
   "language": "python"
  }
 },
 "nbformat_minor": 4,
 "nbformat": 4,
 "cells": [
  {
   "cell_type": "code",
   "execution_count": null,
   "outputs": [],
   "source": [
    "from matplotlib import pyplot as plt\n",
    "import numpy as np\n",
    "\n",
    "\n",
    "n = 35\n",
    "a = 0\n",
    "b = 10\n",
    "\n",
    "\n",
    "def f(x):\n",
    "    return 2 ** (np.cos(x) - np.sin(x)) * np.cos(1 + np.log(1 + x))\n",
    "\n",
    "\n",
    "def lagrange(arg, x, y):\n",
    "    L = 0\n",
    "    for i in range(len(y)):\n",
    "        F = 1\n",
    "        for j in range(len(x)):\n",
    "            if j != i:\n",
    "                F *= (arg - x[j]) / (x[i] - x[j])\n",
    "        L += y[i] * F\n",
    "    return L\n",
    "\n",
    "\n",
    "def interpolate(a, b, n):\n",
    "    step = (b - a) / (n-1)\n",
    "    x_node = np.arange(a, b+step, step)\n",
    "    y_node = f(x_node)\n",
    "    #x_new = [((x_node[i + 1] + x_node[i]) / 2) for i in range(len(x_node)-1)]\n",
    "    x_new = np.linspace(0, 10, 100)\n",
    "    y_new = [lagrange(x, x_node, y_node) for x in x_new]\n",
    "    y_true = [f(x) for x in x_new]\n",
    "    fig, gr = plt.subplots(2, figsize=(15, 15))\n",
    "    plt.rcParams['font.size'] = '16'\n",
    "    gr[0].plot(x_new, y_true, color='r', label='Функция', linewidth=4)\n",
    "    gr[0].plot(x_new, y_new, color='b', label='Полином Лагранжа',linewidth=2)\n",
    "    gr[1].plot(x_new, [abs(y_new[i] - y_true[i]) for i in range(len(y_new))], color='r', label='Погрешность')\n",
    "    gr[0].set(title = \"Интерполяция с равномерным шагом между узлами\")\n",
    "    gr[1].set(title = \"Погрешность для интерполяции с равномерным шагом между узлами\")\n",
    "    for i in gr:\n",
    "        i.set_xlabel(\"x\")\n",
    "        i.set_ylabel(\"y\")\n",
    "        i.legend()\n",
    "        i.grid(True)\n",
    "    plt.show()\n",
    "\n",
    "\n",
    "def interpolateChebyshev(a, b, n):\n",
    "    x_node = []\n",
    "    for i in range(n):\n",
    "        x_node.append((b + a) / 2 + (b - a) * np.cos(np.pi * (2 * (i + 1) / (2 * n))) / 2)\n",
    "    y_node = [f(x) for x in x_node]\n",
    "    #x_new = [(x_node[i + 1] + x_node[i]) / 2 for i in range(len(x_node) - 1)]\n",
    "    x_new = np.linspace(0, 10, 100)\n",
    "    y_new = [lagrange(x, x_node, y_node) for x in x_new]\n",
    "    y_true = [f(x) for x in x_new]\n",
    "    fig, gr = plt.subplots(2, figsize=(15, 15))\n",
    "    plt.rcParams['font.size'] = '16'\n",
    "    gr[0].plot(x_new, y_true, color='r', label='Функция', linewidth=4)\n",
    "    gr[0].plot(x_new, y_new, color='b', label='Полином Лагранжа', linewidth=2)\n",
    "    gr[1].plot(x_new, [abs(y_new[i] - y_true[i]) for i in range(len(y_new))], color='r', label='Погрешность')\n",
    "    gr[0].set(title=\"Интерерполяция с узлами Чебышева\")\n",
    "    gr[1].set(title=\"Погрешность для интерполяции с узлами Чебышева\")\n",
    "    for i in gr:\n",
    "        i.set_xlabel(\"x\")\n",
    "        i.set_ylabel(\"y\")\n",
    "        i.legend()\n",
    "        i.grid(True)\n",
    "    plt.show()\n",
    "\n",
    "\n",
    "interpolate(a, b, n)\n",
    "interpolateChebyshev(a, b, n)\n"
   ],
   "metadata": {
    "collapsed": false,
    "pycharm": {
     "name": "#%%\n"
    }
   }
  },
  {
   "cell_type": "code",
   "execution_count": null,
   "outputs": [],
   "source": [],
   "metadata": {
    "collapsed": false,
    "pycharm": {
     "name": "#%%\n"
    }
   }
  },
  {
   "cell_type": "code",
   "execution_count": null,
   "outputs": [],
   "source": [],
   "metadata": {
    "collapsed": false,
    "pycharm": {
     "name": "#%%\n"
    }
   }
  },
  {
   "cell_type": "code",
   "source": "",
   "metadata": {},
   "execution_count": null,
   "outputs": []
  },
  {
   "cell_type": "code",
   "source": "",
   "metadata": {},
   "execution_count": null,
   "outputs": []
  },
  {
   "cell_type": "code",
   "source": "",
   "metadata": {},
   "execution_count": null,
   "outputs": []
  }
 ]
}